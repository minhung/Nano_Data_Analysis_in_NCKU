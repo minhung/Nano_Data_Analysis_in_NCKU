{
 "metadata": {
  "name": "",
  "signature": "sha256:e3a0524a5696d77b67b9d8b1b1c5d0b584461c58b3b4b94fc95a2983a7550db3"
 },
 "nbformat": 3,
 "nbformat_minor": 0,
 "worksheets": [
  {
   "cells": [
    {
     "cell_type": "markdown",
     "metadata": {},
     "source": [
      "\u7df4\u7fd2\u984c 1.\u6211\u5011\u5148\u505a\u4e00\u500b list, \u88e1\u9762\u662f\u4e00\u5806\u540d\u5b57\u7684\u5b57\u4e32\u3002\u7136\u5f8c\u628a\u9019\u540d\u5b57\u4e00\u4e00\u5957\u5165\u4e00\u5c01\u4fe1\u3001\u4e00\u500b\u8a0a\u606f\u4e4b\u4e2d\u3002"
     ]
    },
    {
     "cell_type": "code",
     "collapsed": false,
     "input": [
      "L=[\"Tom\", \"John\", \"Mary\", \"Jane\",\"Tom\"]"
     ],
     "language": "python",
     "metadata": {},
     "outputs": [],
     "prompt_number": 4
    },
    {
     "cell_type": "code",
     "collapsed": false,
     "input": [
      "for i in range(4):\n",
      "    message=\"\"\"Hi!%s,I missing you and %s.\"\"\"%(L[i],L[i+1])\n",
      "    print message"
     ],
     "language": "python",
     "metadata": {},
     "outputs": [
      {
       "output_type": "stream",
       "stream": "stdout",
       "text": [
        "Hi!Tom,I missing you and John.\n",
        "Hi!John,I missing you and Mary.\n",
        "Hi!Mary,I missing you and Jane.\n",
        "Hi!Jane,I missing you and Tom.\n"
       ]
      }
     ],
     "prompt_number": 5
    },
    {
     "cell_type": "markdown",
     "metadata": {},
     "source": [
      "\u7df4\u7fd2\u984c 2.\u53ef\u4ee5\u8a08\u7b97\u6bcf\u4f4d\u540c\u5b78\u7684\u5e73\u5747\u5206\u6578\u55ce?"
     ]
    },
    {
     "cell_type": "code",
     "collapsed": false,
     "input": [
      "f = open(\"grades.csv\", 'r')"
     ],
     "language": "python",
     "metadata": {},
     "outputs": [],
     "prompt_number": 6
    },
    {
     "cell_type": "code",
     "collapsed": false,
     "input": [],
     "language": "python",
     "metadata": {},
     "outputs": []
    }
   ],
   "metadata": {}
  }
 ]
}