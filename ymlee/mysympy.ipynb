{
 "metadata": {
  "name": "",
  "signature": "sha256:f8521836c0d954994b3785f9ec6d8dd065b680e1e298564470bbdfcd687d0178"
 },
 "nbformat": 3,
 "nbformat_minor": 0,
 "worksheets": [
  {
   "cells": [
    {
     "cell_type": "heading",
     "level": 1,
     "metadata": {},
     "source": [
      "\u671f\u672b\u5831\u544a\u7bc4\u672c- 2014/06/18 \u589e\u8a02"
     ]
    },
    {
     "cell_type": "heading",
     "level": 1,
     "metadata": {},
     "source": [
      "\u6210\u529f\u5927\u5b78\u6578\u5b78\u7cfb\n",
      "xxx\n",
      "\u5b78\u865f"
     ]
    },
    {
     "cell_type": "markdown",
     "metadata": {},
     "source": [
      "![\u6210\u529f\u5927\u5b78\u6578\u5b78\u7cfbxxx\u5b78\u865f](MagicConch.jpg)"
     ]
    },
    {
     "cell_type": "markdown",
     "metadata": {},
     "source": [
      "\u70ba\u4e86\u65b9\u4fbf\u6211\u6253\u5e73\u6642\u5206\u6578\u8acb\u9644\u4e0a\u4f60\u7684\u500b\u4eba\u76f8\u7247\uff08\u9019\u6a23\u6211\u6bd4\u8f03\u6709\u5370\u8c61\uff09\uff0c\u8cbc\u5716\u7684\u65b9\u6cd5\u53ef\u4ee5\u628a\u4e0a\u4e00\u500bcell\u6539\u6210 Raw NBConvert \u5c31\u53ef\u4ee5\u4e86\u89e3\u8cbc\u5716\u8a9e\u6cd5\u3002\n",
      "\n",
      "\u4e0a\u500bcell\u88e1\u7684\u7a0b\u5f0f\u78bc\u662f ![\u6210\u529f\u5927\u5b78\u6578\u5b78\u7cfbxxx\u5b78\u865f] (MagicConch.jpg) (\u6ce8\u610f\u524d\u9762\u7684\u4e2d\u62ec\u5f27\u548c\u5c0f\u62ec\u5f27\u9593\u6c92\u6709\u7a7a\u767d)\u3002\n",
      "\n",
      "\u5716\u5fc5\u9808\u548c\u4f60\u7684 ipython notebook\u6a94 \u653e\u5728(\u4ee5\u6211\u9019\u500b\u6a94\u70ba\u4f8b\uff0cipython notebook\u6a94\u540d\u662fmysympy.ipynb\uff0c\u5716\u6a94\u662fMagicConch.jpg)\u653e\u5728\u540c\u4e00\u500b\u76ee\u9304\uff0cMagicConch.jpg\u662f\u5716\u7684\u6a94\u540d\uff0c\u9664\u4e86jpg\u6a94\u5916\uff0c\u4e5f\u53ef\u4ee5\u7528\u5176\u4ed6\u5e38\u898b\u7684\u5716\u6a94\u3002\u3002"
     ]
    },
    {
     "cell_type": "markdown",
     "metadata": {},
     "source": [
      "\u76ee\u524dmarkdown(\u4e5f\u5c31\u662f\u4f60\u73fe\u5728\u5728notebook\u88e1\uff0c\u9664\u4e86code\u6216\u662fheading\u4f60\u6703\u770b\u5230\u7684\u90e8\u4efd)\u7121\u6cd5\u81ea\u7531\u8abf\u6574\u5716\u7247\u5927\u5c0f\uff0c\u6240\u4ee5\u5982\u679c\u5716\u592a\u5927\u7684\u8a71\uff0c\u53ef\u4ee5\u5728\u7d42\u7aef\u88e1\u4f7f\u7528convert\u7a0b\u5f0f\u8f49\u63db\n",
      "\n",
      "convert  -resize 50% sourceimg destimg\n",
      "\n",
      "\u4e0a\u9762\u7684\u6307\u4ee4\u6703\u628a sourceimg\u7e2e\u5c0f\u621050% \u5b58\u6210 destimg\n"
     ]
    },
    {
     "cell_type": "markdown",
     "metadata": {},
     "source": [
      "\u5831\u544a\u4e2d\u7684\u7a0b\u5f0f\u78bc\u6216\u662f\u8aaa\u660e\u4e0d\u9700\u8981\u9245\u7d30\u9761\u907a\uff0c\u539f\u5247\u4e0a\u80fd\u4f5c\u5230\u65e5\u5f8c\u9700\u8981\u4f7f\u7528\u9019\u4e9b\u529f\u80fd\u6642\u770b\u9019\u7bc7\u8aaa\u660e\u5c31\u53ef\u4ee5\u4f7f\u7528\uff0c\u6216\u662f\u985e\u4f3c\u7db2\u8def\u4e0a\u4e00\u5806\u4f7f\u7528\u6559\u5b78\u7684\u7db2\u8a8c\u90a3\u5c31\u5920\u4e86\u3002\u5831\u544a\u7e73\u4ea4\u6642\uff0c\u9664\u4e86\u76f8\u95dc\u6a94\u6848\u5916(ipynb\u3001\u5716\u6a94)\uff0c\u8acb\u5c07\u4f60\u7684ipynb\u6a94\u8f49\u63db\u70bapdf\u6a94\u7e73\u4ea4(\u5982\u4f55\u8f49\u63db\uff0c\u6211\u53e6\u5916\u8aaa\u660e)\u3002\u5982\u679c\u4f60\u6709\u500b\u4eba\u7db2\u8a8c\uff0c\u4e5f\u53ef\u4ee5\u8f49\u63db\u4e58html\u6a94\uff0c\u8cbc\u5728\u4f60\u7684\u7db2\u8a8c\u3002"
     ]
    },
    {
     "cell_type": "heading",
     "level": 2,
     "metadata": {},
     "source": [
      "\u4f7f\u7528matplotlib\u756b\u5716"
     ]
    },
    {
     "cell_type": "markdown",
     "metadata": {},
     "source": [
      "\u9996\u5148\u8f09\u5165\u9700\u8981\u7684\u76f8\u95dc\u6a21\u7d44"
     ]
    },
    {
     "cell_type": "code",
     "collapsed": false,
     "input": [
      "import matplotlib.pyplot as plt\n",
      "import numpy as np\n",
      "from numpy import sin, exp\n",
      "%matplotlib inline"
     ],
     "language": "python",
     "metadata": {},
     "outputs": [],
     "prompt_number": 1
    },
    {
     "cell_type": "markdown",
     "metadata": {},
     "source": [
      "\u6e96\u5099\u6578\u64da ... \u5047\u8a2d\u6211\u8981\u756b $\\sin{e^x}$\uff0c$x_a \\le x \\le x_b$\uff0c \n",
      "\u8a3b\uff1a\u4e0a\u5f0f\u7684\u6578\u5b78\u5f0f\u5b50\u662f\u4f7f\u7528latex\u8a9e\u6cd5\u6253\u7684\uff0c\u53ef\u4ee5\u9078Raw NBConvert\u5c31\u53ef\u4ee5\u770b\u5230\u8a9e\u6cd5\uff0c\u5e95\u4e0b\u53ef\u4ee5\u770b\u5230\u5176\u4ed6\u985e\u4f3c\u4f8b\u5b50\n"
     ]
    },
    {
     "cell_type": "code",
     "collapsed": false,
     "input": [
      "NumP = 1000\n",
      "x = range(0,NumP+1)\n",
      "y = range(0,NumP+1)\n",
      "xa = 0.0\n",
      "xb = 10.0\n",
      "dx = (xb-xa)/float(NumP)"
     ],
     "language": "python",
     "metadata": {},
     "outputs": [],
     "prompt_number": 2
    },
    {
     "cell_type": "markdown",
     "metadata": {},
     "source": [
      "\u6ce8\u610f\u5e95\u4e0b\u7684x[i]\u3001y[i]\u7684\u5beb\u6cd5\uff0c\u70ba\u4e86\u756b\u5716\uff0c\u6211\u5011\u5728[xa,xb]\u53d6\u4e86NumP+1\u500b\u9ede(\u5305\u542b\u5169\u500b\u7aef\u9ede)\uff0c\u5728\u4e0a\u9762\u7684cell\u88e1\uff0c\u6211\u5011\u8a08\u7b97\u4e86\u5206\u5272\u5927\u5c0f(dx)\uff0c\u7136\u5f8c\u5728\u5e95\u4e0b\u4ee5loop\u7684\u65b9\u5f0f\u7522\u751fx[i]\u4ee5\u53ca\u51fd\u6578\u5728\u8a72\u9ede\u7684\u503cy[i]\u3002"
     ]
    },
    {
     "cell_type": "code",
     "collapsed": false,
     "input": [
      "for i in range(NumP+1):\n",
      "    x[i] = xa+dx*float(i)\n",
      "    y[i]=sin(exp(x[i]))\n",
      "\n",
      "# \u958b\u59cb\u756b\u5716\n",
      "\n",
      "    # \u8a2d\u5b9a\u8981\u756b\u7684\u7684x,y\u6578\u64dalist....\n",
      "\n",
      "plt.plot(x,y) \n",
      "    # \u8a2d\u5b9a\u5716\u7684\u7bc4\u570d, \u4e0d\u8a2d\u7684\u8a71\uff0c\u7cfb\u7d71\u6703\u81ea\u884c\u6c7a\u5b9a\n",
      "plt.xlim(0,10)\n",
      "plt.ylim(-1.5,1.5)\n",
      "    # \u7167\u9700\u8981\u5beb\u5165x \u8ef8\u548cy\u8ef8\u7684 label \u4ee5\u53catitle\n",
      "\n",
      "plt.xlabel(\"x-axis\") \n",
      "plt.ylabel(\"y-axis\") \n",
      "plt.title(\"The Title\") \n",
      "    # \u5728\u9019\u500b\u6307\u4ee4\u4e4b\u524d\uff0c\u90fd\u9084\u5728\u505a\u756b\u5716\u7684\u52d5\u4f5c \n",
      "    # \u9019\u500b\u6307\u4ee4\u7b97\u662f \"\u79c0\u5716\" \n",
      "plt.show() "
     ],
     "language": "python",
     "metadata": {},
     "outputs": [
      {
       "metadata": {},
       "output_type": "display_data",
       "png": "[encoded data removed]",
       "text": [
        "<matplotlib.figure.Figure at 0x4309b90>"
       ]
      }
     ],
     "prompt_number": 3
    },
    {
     "cell_type": "heading",
     "level": 2,
     "metadata": {},
     "source": [
      "\u4f7f\u7528sympy\u8a08\u7b97\u6975\u9650"
     ]
    },
    {
     "cell_type": "markdown",
     "metadata": {},
     "source": [
      "\u5e95\u4e0b\u6211\u5011\u5c07\u662f\u8457\u5f15\u5165\u53ef\u4ee5\u8b93\u7d50\u679c\u6bd4\u8f03\u6f02\u4eae\u7684\u6a21\u7d44(printing)\uff0c\u7531\u65bc\u6bcf\u4e00\u53f0\u96fb\u8166\u5b89\u88dd\u7684\u7a0b\u5f0f\u90fd\u6709\u4e9b\u8a31\u4e0d\u540c\uff0c\u6240\u4ee5\u4e0d\u898b\u5f97\u53ef\u4ee5\u5f15\u5165"
     ]
    },
    {
     "cell_type": "code",
     "collapsed": false,
     "input": [
      "import pkg_resources\n",
      "if pkg_resources.get_distribution(\"sympy\").version > \"0.7.4\":\n",
      "    from sympy.interactive import printing\n",
      "    printing.init_printing(use_latex=True)\n",
      "\n",
      "from IPython.display import display"
     ],
     "language": "python",
     "metadata": {},
     "outputs": [],
     "prompt_number": 4
    },
    {
     "cell_type": "markdown",
     "metadata": {},
     "source": [
      "\u5e95\u4e0b\u7684\u4f8b\u5b50\u662f\u8a08\u7b97$\\lim_{x \\to 0} \\frac{\\sin{x}}{x}$\n",
      "\u7531\u65bc\u6211\u5011\u8981\u8a08\u7b97limit\u3001sin\u6240\u4ee5\u6211\u5011\u9700\u8981\u7531sympy(\u7b26\u865f\u8a08\u7b97)\u5f15\u5165\u76f8\u95dc\u51fd\u6578\uff0c\u540c\u6642\u9700\u8981\u5ba3\u544ax\u662f\u4e00\u500b\u7b26\u865f\u8b8a\u6578"
     ]
    },
    {
     "cell_type": "code",
     "collapsed": false,
     "input": [
      "from sympy import limit, Symbol, sin, oo\n",
      "x = Symbol('x')\n",
      "limit(sin(x)/x, x, 0)"
     ],
     "language": "python",
     "metadata": {},
     "outputs": [
      {
       "latex": [
        "$$1$$"
       ],
       "metadata": {},
       "output_type": "pyout",
       "png": "[encoded data removed]",
       "prompt_number": 5,
       "text": [
        "1"
       ]
      }
     ],
     "prompt_number": 5
    },
    {
     "cell_type": "markdown",
     "metadata": {},
     "source": [
      "$\\lim_{x \\to \\infty} \\frac{\\sin{x}}{x}$"
     ]
    },
    {
     "cell_type": "code",
     "collapsed": false,
     "input": [
      "limit(sin(x)/x, x, oo)"
     ],
     "language": "python",
     "metadata": {
      "slideshow": {
       "slide_type": "slide"
      }
     },
     "outputs": [
      {
       "latex": [
        "$$0$$"
       ],
       "metadata": {},
       "output_type": "pyout",
       "png": "[encoded data removed]",
       "prompt_number": 6,
       "text": [
        "0"
       ]
      }
     ],
     "prompt_number": 6
    },
    {
     "cell_type": "heading",
     "level": 2,
     "metadata": {},
     "source": [
      "\u4f7f\u7528sympy\u8a08\u7b97\u7a4d\u5206"
     ]
    },
    {
     "cell_type": "markdown",
     "metadata": {},
     "source": [
      "\u5e95\u4e0b\u7684\u4f8b\u5b50\u662f\u8a08\u7b97$\\int \\sin{x}\\, dx$\uff0c\u7531\u65bc\u524d\u9762\u5df2\u7d93\u5f15\u5165 sin \u540c\u6642\u4e5f\u5c07x \u5ba3\u544a\u70ba\u4e00\u500bsymbol\uff0c\u6240\u4ee5\u6211\u5011\u9019\u908a\u53ea\u9700\u8981\u518d\u5f15\u5165integrate"
     ]
    },
    {
     "cell_type": "code",
     "collapsed": false,
     "input": [
      " from sympy import integrate\n",
      " integrate(x*sin(x**2), x)"
     ],
     "language": "python",
     "metadata": {},
     "outputs": [
      {
       "latex": [
        "$$- \\frac{1}{2} \\cos{\\left (x^{2} \\right )}$$"
       ],
       "metadata": {},
       "output_type": "pyout",
       "png": "[encoded data removed]",
       "prompt_number": 7,
       "text": [
        "    \u239b 2\u239e \n",
        "-cos\u239dx \u23a0 \n",
        "\u2500\u2500\u2500\u2500\u2500\u2500\u2500\u2500\u2500\n",
        "    2    "
       ]
      }
     ],
     "prompt_number": 7
    },
    {
     "cell_type": "heading",
     "level": 2,
     "metadata": {},
     "source": [
      "\u4f7f\u7528sympy\u8a08\u7b97\u5fae\u5206"
     ]
    },
    {
     "cell_type": "markdown",
     "metadata": {},
     "source": [
      "\u5e95\u4e0b\u7684\u4f8b\u5b50\u662f\u8a08\u7b97$\\frac{d}{dx} \\sin{x}$\uff0c\u7531\u65bc\u524d\u9762\u5df2\u7d93\u5f15\u5165 sin \u540c\u6642\u4e5f\u5c07x \u5ba3\u544a\u70ba\u4e00\u500bsymbol\uff0c\u6240\u4ee5\u6211\u5011\u9019\u908a\u53ea\u9700\u8981\u518d\u5f15\u5165diff"
     ]
    },
    {
     "cell_type": "code",
     "collapsed": false,
     "input": [
      "from sympy import diff\n",
      "diff(sin(x), x)"
     ],
     "language": "python",
     "metadata": {},
     "outputs": [
      {
       "latex": [
        "$$\\cos{\\left (x \\right )}$$"
       ],
       "metadata": {},
       "output_type": "pyout",
       "png": "[encoded data removed]",
       "prompt_number": 8,
       "text": [
        "cos(x)"
       ]
      }
     ],
     "prompt_number": 8
    },
    {
     "cell_type": "markdown",
     "metadata": {},
     "source": [
      "$\\frac{d^2}{dx^2} \\sin{x}$"
     ]
    },
    {
     "cell_type": "code",
     "collapsed": false,
     "input": [
      "diff(sin(x), x,2)"
     ],
     "language": "python",
     "metadata": {},
     "outputs": [
      {
       "latex": [
        "$$- \\sin{\\left (x \\right )}$$"
       ],
       "metadata": {},
       "output_type": "pyout",
       "png": "[encoded data removed]",
       "prompt_number": 9,
       "text": [
        "-sin(x)"
       ]
      }
     ],
     "prompt_number": 9
    },
    {
     "cell_type": "code",
     "collapsed": false,
     "input": [
      "diff(sin(x), x,x)"
     ],
     "language": "python",
     "metadata": {},
     "outputs": [
      {
       "latex": [
        "$$- \\sin{\\left (x \\right )}$$"
       ],
       "metadata": {},
       "output_type": "pyout",
       "png": "[encoded data removed]",
       "prompt_number": 10,
       "text": [
        "-sin(x)"
       ]
      }
     ],
     "prompt_number": 10
    },
    {
     "cell_type": "heading",
     "level": 2,
     "metadata": {},
     "source": [
      "\u88dc\u5145\u8cc7\u6599\uff1aLatex"
     ]
    },
    {
     "cell_type": "markdown",
     "metadata": {},
     "source": [
      "\u4e0a\u9762\u5167\u5bb9\u4e2d\uff0c\u9664\u4e86ipython\u7684\u8f38\u51fa\u5916\uff0c\u6709\u6642\u5019\u4f60\u6703\u770b\u5230\u6578\u5b78\u5f0f\u6df7\u96dc\u5728\u6587\u5b57\u6558\u8ff0\u4e2d\uff0c\u5982\u679c\u4f60\u628a\u8a72cell\u6539\u6210 Raw NBConvert \u6703\u767c\u73fe\u6709\u4e9b\u5f0f\u5b50\u5728$ $\u4e2d\uff0c\u90a3\u4e9b\u5f0f\u5b50\u662flatex\u7684\u5beb\u6cd5\u3002latex\u662f\u5e38\u7528\u4f86\u6253\u6578\u5b78\u65b9\u7a0b\u662f\u7684\u4e00\u7a2e\u8edf\u9ad4\uff0c\u4f46\u662f\u8981\u6574\u7bc7\u6587\u7ae0\u90fd\u7528latex\u6253\uff0c\u9700\u8981\u6642\u9593\u719f\u6089\u7528\u6cd5\u3002\u5728ipython notebook\u6216\u662fmarkdown\u88e1\uff0c\u5141\u8a31\u6211\u5011\u5728\u6587\u5b57\u4e2d\u4f7f\u7528latex\u8a9e\u6cd5\u6253\u6578\u5b78\u5f0f\uff0c\u6bd4\u65b9\u8aaa(\"$\" \u524d\u7684\"*\"\u662f\u8b93markdown\u4ee5\u689d\u5217\u5f0f\u65b9\u5f0f\u8868\u793a)\n",
      "\n",
      "* $\\sum_{i=1}^n a_i=0$\n",
      "\n",
      "* $f(x)=x^{x^x}$\n",
      "\n",
      "* $\\frac{du}{dt} and \\frac{d^2 u}{dx^2}$\n",
      "\n",
      "* $\\lim_{x \\to 0} \\frac{3x^2 +7x^3}{x^2 +5x^4} = 3.$\n",
      "\n",
      "* $\\int_a^b f(x)\\,dx.$\n",
      "\n",
      "* $\\int_0^{+\\infty} x^n e^{-x} \\,dx = n!.$ \n",
      "\n",
      "* $\\int \\cos \\theta \\,d\\theta = \\sin \\theta.$\n",
      "\n",
      "* $\\int_{x^2 + y^2 \\leq R^2} f(x,y)\\,dx\\,dy = \\int_{\\theta=0}^{2\\pi} \\int_{r=0} ^R f(r\\cos\\theta,r\\sin\\theta) r\\,dr\\,d\\theta.$\n",
      "\n",
      "* $$ \\int_{x^2 + y^2 \\leq R^2} f(x,y)\\,dx\\,dy = \\int_{\\theta=0}^{2\\pi} \\int_{r=0} ^R f(r\\cos\\theta,r\\sin\\theta) r\\,dr\\,d\\theta.$$\n",
      "\n",
      "\u6700\u5f8c\u4e00\u500b\u4f8b\u5b50\u6211\u662f\u7528\"$$\"\u593e\u8d77\u6574\u500b\u5f0f\u5b50\uff0c\u9019\u5728latex\u88e1\u662f\u8868\u793a\u9019\u500b\u5f0f\u5b50\u8981\u7368\u5360\u4e00\u884c\u7f6e\u4e2d\uff0c\u540c\u6642\u986f\u793a\u7684\u683c\u5f0f\u6703\u6bd4\u8f03\u6f02\u4eae\u3002\n",
      "\n",
      "\u8acb\u6ce8\u610f\"$\"\u548c\u4f60\u7684\u5f0f\u5b50\u9593\u4e0d\u8981\u6709\u7a7a\u767d\n",
      "\n",
      "\u5982\u679c\u4f60\u60f3\u628a\u5831\u544a\u6253\u6f02\u4eae\u4e00\u9ede\uff0c\u53ef\u4ee5\u8a66\u8457\u4f7f\u7528latex"
     ]
    },
    {
     "cell_type": "heading",
     "level": 2,
     "metadata": {},
     "source": [
      "\u53c3\u8003\u8cc7\u6599\uff1a"
     ]
    },
    {
     "cell_type": "markdown",
     "metadata": {},
     "source": [
      "\u5e95\u4e0b\u662f\u4e00\u4e9b\u53c3\u8003\u8cc7\u6599\uff0c\u7db2\u8def\u4e0a\u9084\u6709\u975e\u5e38\u591a\u8cc7\u6599\u53ef\u4ee5\u4f7f\u7528(\u7528\u661f\u865f\u53ef\u4ee5\u689d\u5217\u5f0f\u986f\u793a\uff0c\u5404\u9805\u9593\u8acb\u7a7a\u4e00\u884c\u4e4b\u5f8c\u5728\u8f49\u63db\u6210pdf\u6a94\u6642\u624d\u4e0d\u6703\u64e0\u5728\u4e00\u8d77)\n",
      "\n",
      "* [LaTeX\u6280\u5de710\uff1aLaTeX\u6578\u5b78\u516c\u5f0f\u8f38\u5165\u521d\u7d1a\u5165\u9580](http://blog.sina.com.cn/s/blog_5e16f1770100fs38.html)\n",
      "\n",
      "* [Markdown\u7684\u7528\u6cd5](http://markdown.tw/)\n",
      "\n",
      "* [\u708e\u9f8d\u8001\u5e2b\u7684blogIPython \u7684 Notebook \u754c\u9762](http://yenlungblog.wordpress.com/2013/11/21/python-ipython-%E7%9A%84-notebook-%E7%95%8C%E9%9D%A2/)\n",
      "\n",
      "* [\u7528python \u756b\u5716 -- matplotlib -- \u9a19\u9322\u6559\u5b78](http://onionys.blogspot.tw/2012/01/python-matplotlib.html)\n",
      "\n",
      "* [SymPy -- \u4f7f\u7528 Python \u5e6b\u4f60\u5c0e\u7169\u4eba\u7684\u6578\u5b78\u516c\u5f0f\uff08\u4e09\uff09](http://www.gtwang.org/2012/12/sympy3.html)"
     ]
    }
   ],
   "metadata": {}
  }
 ]
}