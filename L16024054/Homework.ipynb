{
 "metadata": {
  "name": "",
  "signature": "sha256:639b675b8aa55d331b8f4c6f222c36c4f73f7011d9fcc02e57c23a43fcebc0c3"
 },
 "nbformat": 3,
 "nbformat_minor": 0,
 "worksheets": [
  {
   "cells": [
    {
     "cell_type": "markdown",
     "metadata": {},
     "source": [
      "##\u7df4\u7fd2 I"
     ]
    },
    {
     "cell_type": "code",
     "collapsed": false,
     "input": [
      "friends = [\"Tom\", \"John\", \"Mary\", \"Jane\"]"
     ],
     "language": "python",
     "metadata": {},
     "outputs": [],
     "prompt_number": 8
    },
    {
     "cell_type": "code",
     "collapsed": false,
     "input": [
      "L = []"
     ],
     "language": "python",
     "metadata": {},
     "outputs": [],
     "prompt_number": 11
    },
    {
     "cell_type": "code",
     "collapsed": false,
     "input": [
      "for i in range(len(students)):\n",
      "    message = \"HI %s,would you like to have a dinner together?\" % friends[i]\n",
      "    L.append(message)"
     ],
     "language": "python",
     "metadata": {},
     "outputs": [],
     "prompt_number": 12
    },
    {
     "cell_type": "code",
     "collapsed": false,
     "input": [
      "L"
     ],
     "language": "python",
     "metadata": {},
     "outputs": [
      {
       "metadata": {},
       "output_type": "pyout",
       "prompt_number": 15,
       "text": [
        "['HI Tom,would you like to have a dinner together?',\n",
        " 'HI John,would you like to have a dinner together?',\n",
        " 'HI Mary,would you like to have a dinner together?',\n",
        " 'HI Jane,would you like to have a dinner together?']"
       ]
      }
     ],
     "prompt_number": 15
    },
    {
     "cell_type": "markdown",
     "metadata": {},
     "source": [
      "##\u7df4\u7fd2 II"
     ]
    },
    {
     "cell_type": "code",
     "collapsed": false,
     "input": [
      "f = open(\"grades.csv\", 'r') # \u6253\u958b grades.csv"
     ],
     "language": "python",
     "metadata": {},
     "outputs": [],
     "prompt_number": 22
    },
    {
     "cell_type": "code",
     "collapsed": false,
     "input": [
      "rawdata = f.readlines()"
     ],
     "language": "python",
     "metadata": {},
     "outputs": [],
     "prompt_number": 23
    },
    {
     "cell_type": "code",
     "collapsed": false,
     "input": [
      "f.close() # \u95dc\u6389 grades.csv"
     ],
     "language": "python",
     "metadata": {},
     "outputs": [],
     "prompt_number": 24
    },
    {
     "cell_type": "code",
     "collapsed": false,
     "input": [],
     "language": "python",
     "metadata": {},
     "outputs": []
    }
   ],
   "metadata": {}
  }
 ]
}